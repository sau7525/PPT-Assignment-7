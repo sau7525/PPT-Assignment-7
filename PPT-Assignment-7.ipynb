{
 "cells": [
  {
   "cell_type": "code",
   "execution_count": 1,
   "id": "49fefe25-7e0c-402a-92c1-8e55f2cecf0b",
   "metadata": {},
   "outputs": [],
   "source": [
    "# ANS:1"
   ]
  },
  {
   "cell_type": "code",
   "execution_count": 2,
   "id": "439d1137-6b54-4ac6-b57c-da7360a4a693",
   "metadata": {},
   "outputs": [
    {
     "data": {
      "text/plain": [
       "True"
      ]
     },
     "execution_count": 2,
     "metadata": {},
     "output_type": "execute_result"
    }
   ],
   "source": [
    "s = \"egg\"\n",
    "t = \"add\"\n",
    "def isIsomorphic(s: str, t: str) -> bool:\n",
    "    \"\"\"checks if 2 strings are isomorphic to each other\n",
    "\n",
    "    Args:\n",
    "        s (str): string to check\n",
    "        t (str): string to check\n",
    "\n",
    "    Returns:\n",
    "        bool: True if isomorphic else False\n",
    "    \"\"\"\n",
    "    return len(set(s)) == len(set(t))\n",
    "isIsomorphic(s,t)"
   ]
  },
  {
   "cell_type": "code",
   "execution_count": 3,
   "id": "a71853af-f829-4c49-a640-654a0e6e6c84",
   "metadata": {},
   "outputs": [],
   "source": [
    "# ANS:2"
   ]
  },
  {
   "cell_type": "code",
   "execution_count": 4,
   "id": "c2502978-1144-4d36-9da0-c363bc2461d7",
   "metadata": {},
   "outputs": [
    {
     "data": {
      "text/plain": [
       "True"
      ]
     },
     "execution_count": 4,
     "metadata": {},
     "output_type": "execute_result"
    }
   ],
   "source": [
    "num = \"69\"\n",
    "def isStrobogrammatic(num):\n",
    "    \"\"\"\n",
    "    :type num: str\n",
    "    :rtype: bool\n",
    "    \"\"\"\n",
    "    start , end , legal = 0 , -1 , \"01869\"\n",
    "    while start < end:\n",
    "        if \"\".join(sorted(num[start],num[end])) not in [\"00\",\"11\",\"88\",\"69\"]:\n",
    "            return False\n",
    "        start+=1\n",
    "        end-=1\n",
    "    return True\n",
    "isStrobogrammatic(num)"
   ]
  },
  {
   "cell_type": "code",
   "execution_count": 5,
   "id": "c268b6c5-ef94-47cf-b7c6-fa12b70a1140",
   "metadata": {},
   "outputs": [],
   "source": [
    "# ANS:3"
   ]
  },
  {
   "cell_type": "code",
   "execution_count": 6,
   "id": "667da93d-6255-42a1-95bf-92af7e59c0bf",
   "metadata": {},
   "outputs": [
    {
     "data": {
      "text/plain": [
       "'134'"
      ]
     },
     "execution_count": 6,
     "metadata": {},
     "output_type": "execute_result"
    }
   ],
   "source": [
    "num1 = \"11\"\n",
    "num2 = \"123\"\n",
    "class Solution:\n",
    "    \n",
    "    def str_to_num(self , s:str)->int:\n",
    "        sum1 = 0\n",
    "        for i in s:\n",
    "            sum1 = sum1*10 + int(i)\n",
    "        return (sum1)\n",
    "    \n",
    "    def addStrings(self , num1: str, num2: str) -> str:\n",
    "        \"\"\"Takes 2 non negative numbers as strings and adds\n",
    "        them together and returns a string representation of the result\n",
    "\n",
    "        Args:\n",
    "            num1 (str): string representation of the first number\n",
    "            num2 (str): string representation of the second number\n",
    "\n",
    "        Returns:\n",
    "            str: string representation of the sum\n",
    "        \"\"\"\n",
    "        a = self.str_to_num(num1)\n",
    "\n",
    "        b = self.str_to_num(num2)\n",
    "        \n",
    "        return str(a+b)\n",
    "    \n",
    "obj = Solution()\n",
    "obj.addStrings(num1 , num2)\n",
    "    "
   ]
  },
  {
   "cell_type": "code",
   "execution_count": 7,
   "id": "a90579b6-a11c-4e98-9494-24a3343dc617",
   "metadata": {},
   "outputs": [],
   "source": [
    "# ANS:4"
   ]
  },
  {
   "cell_type": "code",
   "execution_count": 8,
   "id": "1ffeb33b-9fb4-4557-baab-1da037521e04",
   "metadata": {},
   "outputs": [
    {
     "data": {
      "text/plain": [
       "\"s'teL ekat edoCteeL tsetnoc\""
      ]
     },
     "execution_count": 8,
     "metadata": {},
     "output_type": "execute_result"
    }
   ],
   "source": [
    "s = \"Let's take LeetCode contest\"\n",
    "\n",
    "def stringWordReversal(s:str)->str:\n",
    "    \"\"\"takes a string s and returns it\n",
    "    with all the words reversed\n",
    "\n",
    "    Args:\n",
    "        s (str): string\n",
    "\n",
    "    Returns:\n",
    "        str: string with all the words reversed\n",
    "    \"\"\"\n",
    "    return \" \".join([i[::-1] for i in s.split()])\n",
    "stringWordReversal(s)"
   ]
  },
  {
   "cell_type": "code",
   "execution_count": 9,
   "id": "face9069-a0f0-40bd-aae7-ccbbd67ad8d0",
   "metadata": {},
   "outputs": [],
   "source": [
    "# ANS:5"
   ]
  },
  {
   "cell_type": "code",
   "execution_count": 10,
   "id": "297c5bdc-36cb-4e19-bb4c-c44daf033645",
   "metadata": {},
   "outputs": [
    {
     "data": {
      "text/plain": [
       "'bacdfeg'"
      ]
     },
     "execution_count": 10,
     "metadata": {},
     "output_type": "execute_result"
    }
   ],
   "source": [
    "s = \"abcdefg\"\n",
    "k = 2\n",
    "def reverseStr(s, k):\n",
    "        a = list(s)\n",
    "        for i in range(0, len(a), 2*k):\n",
    "            a[i:i+k] = reversed(a[i:i+k])\n",
    "        return \"\".join(a)\n",
    "reverseStr(s,k)"
   ]
  },
  {
   "cell_type": "code",
   "execution_count": 11,
   "id": "5ec405bc-1592-4223-bc55-612c10d998d6",
   "metadata": {},
   "outputs": [],
   "source": [
    "# ANS:6"
   ]
  },
  {
   "cell_type": "code",
   "execution_count": 12,
   "id": "be3f1ac9-5ca1-4fdd-9916-0d81a86320b5",
   "metadata": {},
   "outputs": [
    {
     "data": {
      "text/plain": [
       "True"
      ]
     },
     "execution_count": 12,
     "metadata": {},
     "output_type": "execute_result"
    }
   ],
   "source": [
    "s = \"abcde\"\n",
    "goal = \"cdeab\"\n",
    "def strShift(s:str, goal:str)->bool:\n",
    "    \"\"\"checks if a given string s can become\n",
    "    string goal after some number of shifts\n",
    "\n",
    "    Args:\n",
    "        s (str): string \n",
    "        goal (str): goal string\n",
    "    Returns:\n",
    "        bool: True if s can become goal else False\n",
    "    \"\"\"\n",
    "    for i in range(len(s)):\n",
    "        s = s[-1]+s[:-1]\n",
    "        if s == goal:\n",
    "            return True\n",
    "    return False\n",
    "strShift(s,goal)"
   ]
  },
  {
   "cell_type": "code",
   "execution_count": 13,
   "id": "1d09cd6e-8d1f-46ec-ad3f-a5b8c84882d7",
   "metadata": {},
   "outputs": [],
   "source": [
    "# ANS:7"
   ]
  },
  {
   "cell_type": "code",
   "execution_count": 14,
   "id": "4b8c40c8-7e1b-495c-a4c9-c83a3286786f",
   "metadata": {},
   "outputs": [
    {
     "data": {
      "text/plain": [
       "True"
      ]
     },
     "execution_count": 14,
     "metadata": {},
     "output_type": "execute_result"
    }
   ],
   "source": [
    "s = \"ab#c\"\n",
    "t = \"ad#c\"\n",
    "def backspaceCompare(S, T):\n",
    "        def build(S):\n",
    "            ans = []\n",
    "            for c in S:\n",
    "                if c != '#':\n",
    "                    ans.append(c)\n",
    "                elif ans:\n",
    "                    ans.pop()\n",
    "            return \"\".join(ans)\n",
    "        return build(S) == build(T)\n",
    "backspaceCompare(s,t)"
   ]
  },
  {
   "cell_type": "code",
   "execution_count": 15,
   "id": "f112eb4d-033f-4b92-9b44-84cd9d10768d",
   "metadata": {},
   "outputs": [],
   "source": [
    "# ANS:8"
   ]
  },
  {
   "cell_type": "code",
   "execution_count": 16,
   "id": "5cdef51c-4bb8-4efe-aa15-4a99ebfbe118",
   "metadata": {},
   "outputs": [
    {
     "data": {
      "text/plain": [
       "True"
      ]
     },
     "execution_count": 16,
     "metadata": {},
     "output_type": "execute_result"
    }
   ],
   "source": [
    "coordinates = [[1,2],[2,3],[3,4],[4,5],[5,6],[6,7]]\n",
    "def straightLineCheck(coordinates: list[list[int]])->bool:\n",
    "    \"\"\"check if the given coordinates are on a straight line\n",
    "\n",
    "    Args:\n",
    "        coordinates (list[list[int]]): points\n",
    "\n",
    "    Returns:\n",
    "        bool: True if points are on a straight line\n",
    "    \"\"\"\n",
    "    if(coordinates[1][0]-coordinates[0][0]==0):\n",
    "            s=1e9\n",
    "    else:\n",
    "        s=(coordinates[1][1]-coordinates[0][1])//(coordinates[1][0]-coordinates[0][0])\n",
    "    for i in range(1,len(coordinates)):\n",
    "        slope=1e9\n",
    "        if(coordinates[i][0]-coordinates[i-1][0]!=0):\n",
    "            slope=(coordinates[i][1]-coordinates[i-1][1])//(coordinates[i][0]-coordinates[i-1][0])\n",
    "        if(slope!=s):\n",
    "            return False\n",
    "    return True \n",
    "straightLineCheck(coordinates)"
   ]
  },
  {
   "cell_type": "code",
   "execution_count": null,
   "id": "dbf91f90-fd66-4696-89d2-e388d5d8b525",
   "metadata": {},
   "outputs": [],
   "source": []
  }
 ],
 "metadata": {
  "kernelspec": {
   "display_name": "Python 3 (ipykernel)",
   "language": "python",
   "name": "python3"
  },
  "language_info": {
   "codemirror_mode": {
    "name": "ipython",
    "version": 3
   },
   "file_extension": ".py",
   "mimetype": "text/x-python",
   "name": "python",
   "nbconvert_exporter": "python",
   "pygments_lexer": "ipython3",
   "version": "3.10.8"
  }
 },
 "nbformat": 4,
 "nbformat_minor": 5
}
